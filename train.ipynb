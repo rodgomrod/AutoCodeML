{
 "cells": [
  {
   "cell_type": "code",
   "execution_count": 2,
   "metadata": {},
   "outputs": [],
   "source": [
    "import pandas as pd\n",
    "import numpy as np"
   ]
  },
  {
   "cell_type": "code",
   "execution_count": 19,
   "metadata": {},
   "outputs": [],
   "source": [
    "train = pd.read_csv('data/reduce_train.csv')\n",
    "new_col_names = [\"\".join (c if c.isalnum() else \"_\" for c in str(x)) for x in train.columns]\n",
    "train.columns = new_col_names"
   ]
  },
  {
   "cell_type": "code",
   "execution_count": 4,
   "metadata": {},
   "outputs": [],
   "source": [
    "_target = 'accuracy_group'\n",
    "_id = 'installation_id'"
   ]
  },
  {
   "cell_type": "code",
   "execution_count": 20,
   "metadata": {},
   "outputs": [],
   "source": [
    "X_cols = [x for x in train.columns if x not in [_target, _id]]"
   ]
  },
  {
   "cell_type": "code",
   "execution_count": 21,
   "metadata": {},
   "outputs": [],
   "source": [
    "X = train[X_cols]\n",
    "y = train[_target]"
   ]
  },
  {
   "cell_type": "code",
   "execution_count": 7,
   "metadata": {},
   "outputs": [],
   "source": [
    "from sklearn.model_selection import train_test_split"
   ]
  },
  {
   "cell_type": "code",
   "execution_count": 22,
   "metadata": {},
   "outputs": [],
   "source": [
    "X_train, X_test, y_train, y_test = train_test_split(X, y, test_size=0.3, random_state=42)"
   ]
  },
  {
   "cell_type": "code",
   "execution_count": 24,
   "metadata": {},
   "outputs": [],
   "source": [
    "import lightgbm as lgb"
   ]
  },
  {
   "cell_type": "code",
   "execution_count": 25,
   "metadata": {},
   "outputs": [],
   "source": [
    "params = {\"objective\" : \"multiclass\",\n",
    "          \"n_estimators\": 50000,\n",
    "          \"num_class\" : 4,\n",
    "          \"num_leaves\" : 60,\n",
    "          \"max_depth\": 6,\n",
    "          \"learning_rate\" : 0.01,\n",
    "          \"bagging_fraction\" : 0.9,  # subsample\n",
    "          \"feature_fraction\" : 0.9,  # colsample_bytree\n",
    "          \"bagging_freq\" : 5,        # subsample_freq\n",
    "          \"bagging_seed\" : 42,\n",
    "          \"verbosity\" : -1}"
   ]
  },
  {
   "cell_type": "code",
   "execution_count": 26,
   "metadata": {},
   "outputs": [],
   "source": [
    "lgb_model = lgb.LGBMClassifier(**params)"
   ]
  },
  {
   "cell_type": "code",
   "execution_count": 28,
   "metadata": {},
   "outputs": [
    {
     "name": "stdout",
     "output_type": "stream",
     "text": [
      "Training until validation scores don't improve for 20 rounds\n",
      "[40]\tvalid_0's multi_logloss: 1.14417\n",
      "[80]\tvalid_0's multi_logloss: 1.09264\n",
      "[120]\tvalid_0's multi_logloss: 1.06165\n",
      "[160]\tvalid_0's multi_logloss: 1.0413\n",
      "[200]\tvalid_0's multi_logloss: 1.02743\n",
      "[240]\tvalid_0's multi_logloss: 1.01758\n",
      "[280]\tvalid_0's multi_logloss: 1.01061\n",
      "[320]\tvalid_0's multi_logloss: 1.00496\n",
      "[360]\tvalid_0's multi_logloss: 1.00034\n",
      "[400]\tvalid_0's multi_logloss: 0.997571\n",
      "[440]\tvalid_0's multi_logloss: 0.995403\n",
      "[480]\tvalid_0's multi_logloss: 0.993078\n",
      "[520]\tvalid_0's multi_logloss: 0.991614\n",
      "[560]\tvalid_0's multi_logloss: 0.99005\n",
      "[600]\tvalid_0's multi_logloss: 0.988734\n",
      "[640]\tvalid_0's multi_logloss: 0.987532\n",
      "[680]\tvalid_0's multi_logloss: 0.987216\n",
      "[720]\tvalid_0's multi_logloss: 0.986407\n",
      "[760]\tvalid_0's multi_logloss: 0.985857\n",
      "[800]\tvalid_0's multi_logloss: 0.985668\n",
      "[840]\tvalid_0's multi_logloss: 0.985502\n",
      "[880]\tvalid_0's multi_logloss: 0.985594\n",
      "Early stopping, best iteration is:\n",
      "[860]\tvalid_0's multi_logloss: 0.985464\n"
     ]
    },
    {
     "data": {
      "text/plain": [
       "LGBMClassifier(bagging_fraction=0.9, bagging_freq=5, bagging_seed=42,\n",
       "               boosting_type='gbdt', class_weight=None, colsample_bytree=1.0,\n",
       "               feature_fraction=0.9, importance_type='split',\n",
       "               learning_rate=0.01, max_depth=6, min_child_samples=20,\n",
       "               min_child_weight=0.001, min_split_gain=0.0, n_estimators=50000,\n",
       "               n_jobs=-1, num_class=4, num_leaves=60, objective='multiclass',\n",
       "               random_state=None, reg_alpha=0.0, reg_lambda=0.0, silent=True,\n",
       "               subsample=1.0, subsample_for_bin=200000, subsample_freq=0,\n",
       "               verbosity=-1)"
      ]
     },
     "execution_count": 28,
     "metadata": {},
     "output_type": "execute_result"
    }
   ],
   "source": [
    "lgb_model.fit(X_train,\n",
    "              y_train,\n",
    "              eval_set=[(X_test, y_test)],\n",
    "              verbose=100,\n",
    "              early_stopping_rounds=20\n",
    "             )"
   ]
  },
  {
   "cell_type": "code",
   "execution_count": 29,
   "metadata": {},
   "outputs": [],
   "source": [
    "y_preds = lgb_model.predict(X_test)"
   ]
  },
  {
   "cell_type": "code",
   "execution_count": 30,
   "metadata": {},
   "outputs": [],
   "source": [
    "from sklearn.metrics import confusion_matrix"
   ]
  },
  {
   "cell_type": "code",
   "execution_count": 31,
   "metadata": {},
   "outputs": [
    {
     "data": {
      "text/plain": [
       "array([[ 819,   61,    6,  372],\n",
       "       [ 163,  109,   13,  452],\n",
       "       [  77,   43,   16,  547],\n",
       "       [ 164,   55,   15, 2395]], dtype=int64)"
      ]
     },
     "execution_count": 31,
     "metadata": {},
     "output_type": "execute_result"
    }
   ],
   "source": [
    "confusion_matrix(y_test, y_preds)"
   ]
  },
  {
   "cell_type": "code",
   "execution_count": 32,
   "metadata": {},
   "outputs": [
    {
     "data": {
      "text/plain": [
       "array([[0.08467721, 0.09246488, 0.09029381, 0.7325641 ],\n",
       "       [0.53891018, 0.09908131, 0.08052134, 0.28148717],\n",
       "       [0.69066304, 0.09046516, 0.07877207, 0.14009973],\n",
       "       ...,\n",
       "       [0.05778397, 0.07632554, 0.07659405, 0.78929645],\n",
       "       [0.95094789, 0.03337777, 0.007962  , 0.00771234],\n",
       "       [0.05465113, 0.3003672 , 0.13582663, 0.50915504]])"
      ]
     },
     "execution_count": 32,
     "metadata": {},
     "output_type": "execute_result"
    }
   ],
   "source": [
    "lgb_model.predict_proba(X_test)"
   ]
  },
  {
   "cell_type": "code",
   "execution_count": 34,
   "metadata": {},
   "outputs": [
    {
     "name": "stdout",
     "output_type": "stream",
     "text": [
      "Mejor score con todas las variables: 0.9854644567757107\n"
     ]
    }
   ],
   "source": [
    "print('Mejor score con todas las variables:', lgb_model.best_score_['valid_0']['multi_logloss'])"
   ]
  },
  {
   "cell_type": "code",
   "execution_count": null,
   "metadata": {},
   "outputs": [],
   "source": []
  },
  {
   "cell_type": "code",
   "execution_count": 35,
   "metadata": {},
   "outputs": [],
   "source": [
    "df_imp = pd.read_csv('importances/20200113_PermutationImportance_RF.csv')\n",
    "df_imp.feature = [\"\".join (c if c.isalnum() else \"_\" for c in str(x)) for x in df_imp.feature]"
   ]
  },
  {
   "cell_type": "code",
   "execution_count": 37,
   "metadata": {},
   "outputs": [],
   "source": [
    "df_imp.feature = [\"\".join (c if c.isalnum() else \"_\" for c in str(x)) for x in df_imp.feature]"
   ]
  },
  {
   "cell_type": "code",
   "execution_count": 38,
   "metadata": {},
   "outputs": [
    {
     "data": {
      "text/html": [
       "<div>\n",
       "<style scoped>\n",
       "    .dataframe tbody tr th:only-of-type {\n",
       "        vertical-align: middle;\n",
       "    }\n",
       "\n",
       "    .dataframe tbody tr th {\n",
       "        vertical-align: top;\n",
       "    }\n",
       "\n",
       "    .dataframe thead th {\n",
       "        text-align: right;\n",
       "    }\n",
       "</style>\n",
       "<table border=\"1\" class=\"dataframe\">\n",
       "  <thead>\n",
       "    <tr style=\"text-align: right;\">\n",
       "      <th></th>\n",
       "      <th>feature</th>\n",
       "      <th>Importance</th>\n",
       "    </tr>\n",
       "  </thead>\n",
       "  <tbody>\n",
       "    <tr>\n",
       "      <th>0</th>\n",
       "      <td>session_title</td>\n",
       "      <td>0.021406</td>\n",
       "    </tr>\n",
       "    <tr>\n",
       "      <th>1</th>\n",
       "      <td>3393b68b</td>\n",
       "      <td>0.002261</td>\n",
       "    </tr>\n",
       "    <tr>\n",
       "      <th>2</th>\n",
       "      <td>accumulated_accuracy_group</td>\n",
       "      <td>0.001470</td>\n",
       "    </tr>\n",
       "    <tr>\n",
       "      <th>3</th>\n",
       "      <td>7525289a</td>\n",
       "      <td>0.001394</td>\n",
       "    </tr>\n",
       "    <tr>\n",
       "      <th>4</th>\n",
       "      <td>Chest_Sorter__Assessment__3121</td>\n",
       "      <td>0.001319</td>\n",
       "    </tr>\n",
       "  </tbody>\n",
       "</table>\n",
       "</div>"
      ],
      "text/plain": [
       "                          feature  Importance\n",
       "0                   session_title    0.021406\n",
       "1                        3393b68b    0.002261\n",
       "2      accumulated_accuracy_group    0.001470\n",
       "3                        7525289a    0.001394\n",
       "4  Chest_Sorter__Assessment__3121    0.001319"
      ]
     },
     "execution_count": 38,
     "metadata": {},
     "output_type": "execute_result"
    }
   ],
   "source": [
    "df_imp.head()"
   ]
  },
  {
   "cell_type": "code",
   "execution_count": null,
   "metadata": {},
   "outputs": [],
   "source": []
  }
 ],
 "metadata": {
  "kernelspec": {
   "display_name": "Python 3",
   "language": "python",
   "name": "python3"
  },
  "language_info": {
   "codemirror_mode": {
    "name": "ipython",
    "version": 3
   },
   "file_extension": ".py",
   "mimetype": "text/x-python",
   "name": "python",
   "nbconvert_exporter": "python",
   "pygments_lexer": "ipython3",
   "version": "3.7.4"
  }
 },
 "nbformat": 4,
 "nbformat_minor": 2
}
