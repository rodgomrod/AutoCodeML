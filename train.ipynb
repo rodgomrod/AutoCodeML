{
 "cells": [
  {
   "cell_type": "code",
   "execution_count": 1,
   "metadata": {},
   "outputs": [],
   "source": [
    "import pandas as pd\n",
    "import numpy as np\n",
    "from sklearn.model_selection import train_test_split\n",
    "from sklearn.metrics import confusion_matrix\n",
    "import lightgbm as lgb"
   ]
  },
  {
   "cell_type": "code",
   "execution_count": 2,
   "metadata": {},
   "outputs": [],
   "source": [
    "train = pd.read_csv('data/reduce_train.csv')\n",
    "new_col_names = [\"\".join (c if c.isalnum() else \"_\" for c in str(x)) for x in train.columns]\n",
    "train.columns = new_col_names"
   ]
  },
  {
   "cell_type": "code",
   "execution_count": 3,
   "metadata": {},
   "outputs": [],
   "source": [
    "_target = 'accuracy_group'\n",
    "_id = 'installation_id'"
   ]
  },
  {
   "cell_type": "code",
   "execution_count": 4,
   "metadata": {},
   "outputs": [],
   "source": [
    "X_cols = [x for x in train.columns if x not in [_target, _id]]"
   ]
  },
  {
   "cell_type": "code",
   "execution_count": 5,
   "metadata": {},
   "outputs": [],
   "source": [
    "X = train[X_cols]\n",
    "y = train[_target]"
   ]
  },
  {
   "cell_type": "code",
   "execution_count": 73,
   "metadata": {},
   "outputs": [],
   "source": [
    "X_train, X_test, y_train, y_test = train_test_split(X, y, test_size=0.1, random_state=42)"
   ]
  },
  {
   "cell_type": "code",
   "execution_count": 74,
   "metadata": {},
   "outputs": [],
   "source": [
    "X_fit, X_val, y_fit, y_val = train_test_split(X_train, y_train, test_size=0.3, random_state=42)"
   ]
  },
  {
   "cell_type": "code",
   "execution_count": 9,
   "metadata": {},
   "outputs": [],
   "source": [
    "params = {\"objective\" : \"multiclass\",\n",
    "          \"n_estimators\": 50000,\n",
    "          \"num_class\" : 4,\n",
    "          \"num_leaves\" : 128,\n",
    "          \"max_depth\": -1,\n",
    "          \"learning_rate\" : 0.01,\n",
    "          \"bagging_fraction\" : 0.9,  # subsample\n",
    "          \"feature_fraction\" : 0.9,  # colsample_bytree\n",
    "          \"bagging_freq\" : 2,        # subsample_freq\n",
    "          \"bagging_seed\" : 42,\n",
    "          \"verbosity\" : -1}"
   ]
  },
  {
   "cell_type": "code",
   "execution_count": 10,
   "metadata": {},
   "outputs": [],
   "source": [
    "lgb_model = lgb.LGBMClassifier(**params)"
   ]
  },
  {
   "cell_type": "code",
   "execution_count": 33,
   "metadata": {},
   "outputs": [
    {
     "name": "stdout",
     "output_type": "stream",
     "text": [
      "Training until validation scores don't improve for 20 rounds\n",
      "[100]\tvalid_0's multi_logloss: 1.06401\n",
      "[200]\tvalid_0's multi_logloss: 1.01501\n",
      "[300]\tvalid_0's multi_logloss: 0.99938\n",
      "[400]\tvalid_0's multi_logloss: 0.996432\n",
      "Early stopping, best iteration is:\n",
      "[389]\tvalid_0's multi_logloss: 0.996196\n"
     ]
    },
    {
     "data": {
      "text/plain": [
       "LGBMClassifier(bagging_fraction=0.9, bagging_freq=5, bagging_seed=42,\n",
       "               boosting_type='gbdt', class_weight=None, colsample_bytree=1.0,\n",
       "               feature_fraction=0.9, importance_type='split',\n",
       "               learning_rate=0.01, max_depth=-1, min_child_samples=20,\n",
       "               min_child_weight=0.001, min_split_gain=0.0, n_estimators=50000,\n",
       "               n_jobs=-1, num_class=4, num_leaves=128, objective='multiclass',\n",
       "               random_state=None, reg_alpha=0.0, reg_lambda=0.0, silent=True,\n",
       "               subsample=1.0, subsample_for_bin=200000, subsample_freq=0,\n",
       "               verbosity=-1)"
      ]
     },
     "execution_count": 33,
     "metadata": {},
     "output_type": "execute_result"
    }
   ],
   "source": [
    "lgb_model.fit(X_train,\n",
    "              y_train,\n",
    "              eval_set=[(X_test, y_test)],\n",
    "              verbose=100,\n",
    "              early_stopping_rounds=20\n",
    "             )"
   ]
  },
  {
   "cell_type": "code",
   "execution_count": 29,
   "metadata": {},
   "outputs": [],
   "source": [
    "y_preds = lgb_model.predict(X_test)"
   ]
  },
  {
   "cell_type": "code",
   "execution_count": 31,
   "metadata": {},
   "outputs": [
    {
     "data": {
      "text/plain": [
       "array([[ 819,   61,    6,  372],\n",
       "       [ 163,  109,   13,  452],\n",
       "       [  77,   43,   16,  547],\n",
       "       [ 164,   55,   15, 2395]], dtype=int64)"
      ]
     },
     "execution_count": 31,
     "metadata": {},
     "output_type": "execute_result"
    }
   ],
   "source": [
    "confusion_matrix(y_test, y_preds)"
   ]
  },
  {
   "cell_type": "code",
   "execution_count": 32,
   "metadata": {},
   "outputs": [
    {
     "data": {
      "text/plain": [
       "array([[0.08467721, 0.09246488, 0.09029381, 0.7325641 ],\n",
       "       [0.53891018, 0.09908131, 0.08052134, 0.28148717],\n",
       "       [0.69066304, 0.09046516, 0.07877207, 0.14009973],\n",
       "       ...,\n",
       "       [0.05778397, 0.07632554, 0.07659405, 0.78929645],\n",
       "       [0.95094789, 0.03337777, 0.007962  , 0.00771234],\n",
       "       [0.05465113, 0.3003672 , 0.13582663, 0.50915504]])"
      ]
     },
     "execution_count": 32,
     "metadata": {},
     "output_type": "execute_result"
    }
   ],
   "source": [
    "lgb_model.predict_proba(X_test)"
   ]
  },
  {
   "cell_type": "code",
   "execution_count": 34,
   "metadata": {},
   "outputs": [
    {
     "name": "stdout",
     "output_type": "stream",
     "text": [
      "Mejor score con todas las variables: 0.9854644567757107\n"
     ]
    }
   ],
   "source": [
    "print('Mejor score con todas las variables:', lgb_model.best_score_['valid_0']['multi_logloss'])"
   ]
  },
  {
   "cell_type": "code",
   "execution_count": null,
   "metadata": {},
   "outputs": [],
   "source": []
  },
  {
   "cell_type": "code",
   "execution_count": 20,
   "metadata": {},
   "outputs": [],
   "source": [
    "df_imp = pd.read_csv('importances/20200113_PermutationImportance_RF.csv')\n",
    "df_imp.feature = [\"\".join (c if c.isalnum() else \"_\" for c in str(x)) for x in df_imp.feature]"
   ]
  },
  {
   "cell_type": "code",
   "execution_count": 21,
   "metadata": {},
   "outputs": [
    {
     "data": {
      "text/html": [
       "<div>\n",
       "<style scoped>\n",
       "    .dataframe tbody tr th:only-of-type {\n",
       "        vertical-align: middle;\n",
       "    }\n",
       "\n",
       "    .dataframe tbody tr th {\n",
       "        vertical-align: top;\n",
       "    }\n",
       "\n",
       "    .dataframe thead th {\n",
       "        text-align: right;\n",
       "    }\n",
       "</style>\n",
       "<table border=\"1\" class=\"dataframe\">\n",
       "  <thead>\n",
       "    <tr style=\"text-align: right;\">\n",
       "      <th></th>\n",
       "      <th>feature</th>\n",
       "      <th>Importance</th>\n",
       "    </tr>\n",
       "  </thead>\n",
       "  <tbody>\n",
       "    <tr>\n",
       "      <th>0</th>\n",
       "      <td>session_title</td>\n",
       "      <td>0.021406</td>\n",
       "    </tr>\n",
       "    <tr>\n",
       "      <th>1</th>\n",
       "      <td>3393b68b</td>\n",
       "      <td>0.002261</td>\n",
       "    </tr>\n",
       "    <tr>\n",
       "      <th>2</th>\n",
       "      <td>accumulated_accuracy_group</td>\n",
       "      <td>0.001470</td>\n",
       "    </tr>\n",
       "    <tr>\n",
       "      <th>3</th>\n",
       "      <td>7525289a</td>\n",
       "      <td>0.001394</td>\n",
       "    </tr>\n",
       "    <tr>\n",
       "      <th>4</th>\n",
       "      <td>Chest_Sorter__Assessment__3121</td>\n",
       "      <td>0.001319</td>\n",
       "    </tr>\n",
       "  </tbody>\n",
       "</table>\n",
       "</div>"
      ],
      "text/plain": [
       "                          feature  Importance\n",
       "0                   session_title    0.021406\n",
       "1                        3393b68b    0.002261\n",
       "2      accumulated_accuracy_group    0.001470\n",
       "3                        7525289a    0.001394\n",
       "4  Chest_Sorter__Assessment__3121    0.001319"
      ]
     },
     "execution_count": 21,
     "metadata": {},
     "output_type": "execute_result"
    }
   ],
   "source": [
    "df_imp.head()"
   ]
  },
  {
   "cell_type": "code",
   "execution_count": 22,
   "metadata": {},
   "outputs": [],
   "source": [
    "ft_imp = df_imp[df_imp.Importance > 0]['feature'].tolist()"
   ]
  },
  {
   "cell_type": "code",
   "execution_count": 34,
   "metadata": {},
   "outputs": [
    {
     "name": "stdout",
     "output_type": "stream",
     "text": [
      "Training until validation scores don't improve for 20 rounds\n",
      "[100]\tvalid_0's multi_logloss: 1.06285\n",
      "[200]\tvalid_0's multi_logloss: 1.01465\n",
      "[300]\tvalid_0's multi_logloss: 0.998728\n",
      "[400]\tvalid_0's multi_logloss: 0.995743\n",
      "Early stopping, best iteration is:\n",
      "[385]\tvalid_0's multi_logloss: 0.995391\n"
     ]
    },
    {
     "data": {
      "text/plain": [
       "LGBMClassifier(bagging_fraction=0.9, bagging_freq=5, bagging_seed=42,\n",
       "               boosting_type='gbdt', class_weight=None, colsample_bytree=1.0,\n",
       "               feature_fraction=0.9, importance_type='split',\n",
       "               learning_rate=0.01, max_depth=-1, min_child_samples=20,\n",
       "               min_child_weight=0.001, min_split_gain=0.0, n_estimators=50000,\n",
       "               n_jobs=-1, num_class=4, num_leaves=128, objective='multiclass',\n",
       "               random_state=None, reg_alpha=0.0, reg_lambda=0.0, silent=True,\n",
       "               subsample=1.0, subsample_for_bin=200000, subsample_freq=0,\n",
       "               verbosity=-1)"
      ]
     },
     "execution_count": 34,
     "metadata": {},
     "output_type": "execute_result"
    }
   ],
   "source": [
    "lgb_model.fit(X_train[ft_imp],\n",
    "              y_train,\n",
    "              eval_set=[(X_test[ft_imp], y_test)],\n",
    "              verbose=100,\n",
    "              early_stopping_rounds=20\n",
    "             )"
   ]
  },
  {
   "cell_type": "code",
   "execution_count": 35,
   "metadata": {},
   "outputs": [],
   "source": [
    "y_preds = lgb_model.predict(X_test[ft_imp])"
   ]
  },
  {
   "cell_type": "code",
   "execution_count": 36,
   "metadata": {},
   "outputs": [
    {
     "data": {
      "text/plain": [
       "array([[ 806,   67,   10,  375],\n",
       "       [ 167,  110,   16,  444],\n",
       "       [  72,   42,   17,  552],\n",
       "       [ 156,   62,   20, 2391]], dtype=int64)"
      ]
     },
     "execution_count": 36,
     "metadata": {},
     "output_type": "execute_result"
    }
   ],
   "source": [
    "confusion_matrix(y_test, y_preds)"
   ]
  },
  {
   "cell_type": "code",
   "execution_count": 37,
   "metadata": {},
   "outputs": [
    {
     "name": "stdout",
     "output_type": "stream",
     "text": [
      "Mejor score con las variables mas importantes: 0.9953909891982207\n"
     ]
    }
   ],
   "source": [
    "print('Mejor score con las variables mas importantes:', lgb_model.best_score_['valid_0']['multi_logloss'])"
   ]
  },
  {
   "cell_type": "code",
   "execution_count": null,
   "metadata": {},
   "outputs": [],
   "source": []
  },
  {
   "cell_type": "markdown",
   "metadata": {},
   "source": [
    "1 contra el resto (transformación a clasificación binaria)"
   ]
  },
  {
   "cell_type": "code",
   "execution_count": 28,
   "metadata": {},
   "outputs": [],
   "source": [
    "params = {\"objective\" : \"binary\",\n",
    "          \"n_estimators\": 50000,\n",
    "          \"num_leaves\" : 128,\n",
    "          \"max_depth\": -1,\n",
    "          \"learning_rate\" : 0.01,\n",
    "          \"bagging_fraction\" : 0.9,  # subsample\n",
    "          \"feature_fraction\" : 0.9,  # colsample_bytree\n",
    "          \"bagging_freq\" : 2,        # subsample_freq\n",
    "          \"bagging_seed\" : 42,\n",
    "          \"verbosity\" : -1}"
   ]
  },
  {
   "cell_type": "code",
   "execution_count": 29,
   "metadata": {},
   "outputs": [],
   "source": [
    "lgb_model = lgb.LGBMClassifier(**params)"
   ]
  },
  {
   "cell_type": "code",
   "execution_count": 83,
   "metadata": {},
   "outputs": [],
   "source": [
    "df_sub = pd.DataFrame({_id: train.iloc[X_test.index][_id],\n",
    "                       _target: train.iloc[X_test.index][_target]})"
   ]
  },
  {
   "cell_type": "code",
   "execution_count": 88,
   "metadata": {},
   "outputs": [
    {
     "name": "stdout",
     "output_type": "stream",
     "text": [
      "Entrenando con variable clave: 0\n",
      "Training until validation scores don't improve for 40 rounds\n",
      "[100]\tvalid_0's binary_logloss: 0.421763\n",
      "[200]\tvalid_0's binary_logloss: 0.38973\n",
      "[300]\tvalid_0's binary_logloss: 0.379803\n",
      "[400]\tvalid_0's binary_logloss: 0.37769\n",
      "Early stopping, best iteration is:\n",
      "[412]\tvalid_0's binary_logloss: 0.377633\n",
      "Matriz de confusion:\n",
      "[[1286   61]\n",
      " [ 208  214]]\n",
      "\n",
      "Entrenando con variable clave: 1\n",
      "Training until validation scores don't improve for 40 rounds\n",
      "[100]\tvalid_0's binary_logloss: 0.365215\n",
      "Early stopping, best iteration is:\n",
      "[139]\tvalid_0's binary_logloss: 0.363556\n",
      "Matriz de confusion:\n",
      "[[1504    2]\n",
      " [ 262    1]]\n",
      "\n",
      "Entrenando con variable clave: 2\n",
      "Training until validation scores don't improve for 40 rounds\n",
      "[100]\tvalid_0's binary_logloss: 0.375313\n",
      "Early stopping, best iteration is:\n",
      "[69]\tvalid_0's binary_logloss: 0.374752\n",
      "Matriz de confusion:\n",
      "[[1550    0]\n",
      " [ 219    0]]\n",
      "\n",
      "Entrenando con variable clave: 3\n",
      "Training until validation scores don't improve for 40 rounds\n",
      "[100]\tvalid_0's binary_logloss: 0.575605\n",
      "[200]\tvalid_0's binary_logloss: 0.550322\n",
      "[300]\tvalid_0's binary_logloss: 0.544398\n",
      "Early stopping, best iteration is:\n",
      "[317]\tvalid_0's binary_logloss: 0.544252\n",
      "Matriz de confusion:\n",
      "[[597 307]\n",
      " [187 678]]\n",
      "\n"
     ]
    }
   ],
   "source": [
    "for i in range(4):\n",
    "    print('Entrenando con variable clave:', i)\n",
    "    \n",
    "    y_train_bin = np.where(y_fit == i, 1, 0)\n",
    "    y_val_bin = np.where(y_val == i, 1, 0)\n",
    "    y_test_bin = np.where(y_test == i, 1, 0)\n",
    "\n",
    "    lgb_model.fit(X_fit[ft_imp],\n",
    "                  y_train_bin,\n",
    "                  eval_set=[(X_val[ft_imp], y_val_bin)],\n",
    "                  verbose=100,\n",
    "                  early_stopping_rounds=40\n",
    "                 )\n",
    "\n",
    "    y_preds = lgb_model.predict(X_test[ft_imp])\n",
    "    y_preds_proba = lgb_model.predict_proba(X_test[ft_imp])[:,1]\n",
    "    df_sub['clave_{}'.format(i)] = y_preds_proba\n",
    "\n",
    "    print('Matriz de confusion:')\n",
    "    print(confusion_matrix(y_test_bin, y_preds))\n",
    "    print('')"
   ]
  },
  {
   "cell_type": "code",
   "execution_count": 89,
   "metadata": {},
   "outputs": [
    {
     "data": {
      "text/html": [
       "<div>\n",
       "<style scoped>\n",
       "    .dataframe tbody tr th:only-of-type {\n",
       "        vertical-align: middle;\n",
       "    }\n",
       "\n",
       "    .dataframe tbody tr th {\n",
       "        vertical-align: top;\n",
       "    }\n",
       "\n",
       "    .dataframe thead th {\n",
       "        text-align: right;\n",
       "    }\n",
       "</style>\n",
       "<table border=\"1\" class=\"dataframe\">\n",
       "  <thead>\n",
       "    <tr style=\"text-align: right;\">\n",
       "      <th></th>\n",
       "      <th>installation_id</th>\n",
       "      <th>accuracy_group</th>\n",
       "      <th>clave_0</th>\n",
       "      <th>clave_1</th>\n",
       "      <th>clave_2</th>\n",
       "      <th>clave_3</th>\n",
       "    </tr>\n",
       "  </thead>\n",
       "  <tbody>\n",
       "    <tr>\n",
       "      <th>17553</th>\n",
       "      <td>fc4ad96c</td>\n",
       "      <td>3</td>\n",
       "      <td>0.062137</td>\n",
       "      <td>0.117844</td>\n",
       "      <td>0.115180</td>\n",
       "      <td>0.726150</td>\n",
       "    </tr>\n",
       "    <tr>\n",
       "      <th>5659</th>\n",
       "      <td>4c53711a</td>\n",
       "      <td>0</td>\n",
       "      <td>0.369194</td>\n",
       "      <td>0.128821</td>\n",
       "      <td>0.112929</td>\n",
       "      <td>0.333262</td>\n",
       "    </tr>\n",
       "    <tr>\n",
       "      <th>5954</th>\n",
       "      <td>4f7942c8</td>\n",
       "      <td>0</td>\n",
       "      <td>0.684356</td>\n",
       "      <td>0.194679</td>\n",
       "      <td>0.097860</td>\n",
       "      <td>0.204033</td>\n",
       "    </tr>\n",
       "    <tr>\n",
       "      <th>733</th>\n",
       "      <td>08987c08</td>\n",
       "      <td>0</td>\n",
       "      <td>0.657136</td>\n",
       "      <td>0.099960</td>\n",
       "      <td>0.079618</td>\n",
       "      <td>0.169740</td>\n",
       "    </tr>\n",
       "    <tr>\n",
       "      <th>10290</th>\n",
       "      <td>8fabc729</td>\n",
       "      <td>3</td>\n",
       "      <td>0.050192</td>\n",
       "      <td>0.108812</td>\n",
       "      <td>0.132427</td>\n",
       "      <td>0.643717</td>\n",
       "    </tr>\n",
       "  </tbody>\n",
       "</table>\n",
       "</div>"
      ],
      "text/plain": [
       "      installation_id  accuracy_group   clave_0   clave_1   clave_2   clave_3\n",
       "17553        fc4ad96c               3  0.062137  0.117844  0.115180  0.726150\n",
       "5659         4c53711a               0  0.369194  0.128821  0.112929  0.333262\n",
       "5954         4f7942c8               0  0.684356  0.194679  0.097860  0.204033\n",
       "733          08987c08               0  0.657136  0.099960  0.079618  0.169740\n",
       "10290        8fabc729               3  0.050192  0.108812  0.132427  0.643717"
      ]
     },
     "execution_count": 89,
     "metadata": {},
     "output_type": "execute_result"
    }
   ],
   "source": [
    "df_sub.head()"
   ]
  },
  {
   "cell_type": "code",
   "execution_count": 97,
   "metadata": {},
   "outputs": [],
   "source": [
    "df_sub['max_pred'] = df_sub[['clave_0', 'clave_1', 'clave_2', 'clave_3']].max(axis=1)"
   ]
  },
  {
   "cell_type": "code",
   "execution_count": 98,
   "metadata": {},
   "outputs": [
    {
     "data": {
      "text/html": [
       "<div>\n",
       "<style scoped>\n",
       "    .dataframe tbody tr th:only-of-type {\n",
       "        vertical-align: middle;\n",
       "    }\n",
       "\n",
       "    .dataframe tbody tr th {\n",
       "        vertical-align: top;\n",
       "    }\n",
       "\n",
       "    .dataframe thead th {\n",
       "        text-align: right;\n",
       "    }\n",
       "</style>\n",
       "<table border=\"1\" class=\"dataframe\">\n",
       "  <thead>\n",
       "    <tr style=\"text-align: right;\">\n",
       "      <th></th>\n",
       "      <th>installation_id</th>\n",
       "      <th>accuracy_group</th>\n",
       "      <th>clave_0</th>\n",
       "      <th>clave_1</th>\n",
       "      <th>clave_2</th>\n",
       "      <th>clave_3</th>\n",
       "      <th>max_pred</th>\n",
       "    </tr>\n",
       "  </thead>\n",
       "  <tbody>\n",
       "    <tr>\n",
       "      <th>17553</th>\n",
       "      <td>fc4ad96c</td>\n",
       "      <td>3</td>\n",
       "      <td>0.062137</td>\n",
       "      <td>0.117844</td>\n",
       "      <td>0.115180</td>\n",
       "      <td>0.726150</td>\n",
       "      <td>0.726150</td>\n",
       "    </tr>\n",
       "    <tr>\n",
       "      <th>5659</th>\n",
       "      <td>4c53711a</td>\n",
       "      <td>0</td>\n",
       "      <td>0.369194</td>\n",
       "      <td>0.128821</td>\n",
       "      <td>0.112929</td>\n",
       "      <td>0.333262</td>\n",
       "      <td>0.369194</td>\n",
       "    </tr>\n",
       "    <tr>\n",
       "      <th>5954</th>\n",
       "      <td>4f7942c8</td>\n",
       "      <td>0</td>\n",
       "      <td>0.684356</td>\n",
       "      <td>0.194679</td>\n",
       "      <td>0.097860</td>\n",
       "      <td>0.204033</td>\n",
       "      <td>0.684356</td>\n",
       "    </tr>\n",
       "    <tr>\n",
       "      <th>733</th>\n",
       "      <td>08987c08</td>\n",
       "      <td>0</td>\n",
       "      <td>0.657136</td>\n",
       "      <td>0.099960</td>\n",
       "      <td>0.079618</td>\n",
       "      <td>0.169740</td>\n",
       "      <td>0.657136</td>\n",
       "    </tr>\n",
       "    <tr>\n",
       "      <th>10290</th>\n",
       "      <td>8fabc729</td>\n",
       "      <td>3</td>\n",
       "      <td>0.050192</td>\n",
       "      <td>0.108812</td>\n",
       "      <td>0.132427</td>\n",
       "      <td>0.643717</td>\n",
       "      <td>0.643717</td>\n",
       "    </tr>\n",
       "  </tbody>\n",
       "</table>\n",
       "</div>"
      ],
      "text/plain": [
       "      installation_id  accuracy_group   clave_0   clave_1   clave_2   clave_3  \\\n",
       "17553        fc4ad96c               3  0.062137  0.117844  0.115180  0.726150   \n",
       "5659         4c53711a               0  0.369194  0.128821  0.112929  0.333262   \n",
       "5954         4f7942c8               0  0.684356  0.194679  0.097860  0.204033   \n",
       "733          08987c08               0  0.657136  0.099960  0.079618  0.169740   \n",
       "10290        8fabc729               3  0.050192  0.108812  0.132427  0.643717   \n",
       "\n",
       "       max_pred  \n",
       "17553  0.726150  \n",
       "5659   0.369194  \n",
       "5954   0.684356  \n",
       "733    0.657136  \n",
       "10290  0.643717  "
      ]
     },
     "execution_count": 98,
     "metadata": {},
     "output_type": "execute_result"
    }
   ],
   "source": [
    "df_sub.head()"
   ]
  },
  {
   "cell_type": "code",
   "execution_count": 99,
   "metadata": {},
   "outputs": [],
   "source": [
    "def return_solution(x, y, z, t, max_pred):\n",
    "    if x == max_pred:\n",
    "        return 0\n",
    "    elif y == max_pred:\n",
    "        return 1\n",
    "    elif z == max_pred:\n",
    "        return 2\n",
    "    elif t == max_pred:\n",
    "        return 3\n",
    "    else:\n",
    "        return None"
   ]
  },
  {
   "cell_type": "code",
   "execution_count": 105,
   "metadata": {},
   "outputs": [],
   "source": [
    "df_sub['final_pred'] = df_sub.apply(lambda x: return_solution(x['clave_0'], x['clave_1'], x['clave_2'], x['clave_3'], x['max_pred']), axis=1)"
   ]
  },
  {
   "cell_type": "code",
   "execution_count": 106,
   "metadata": {},
   "outputs": [
    {
     "data": {
      "text/plain": [
       "array([[269,  14,   1, 138],\n",
       "       [ 60,  38,   2, 163],\n",
       "       [ 15,  13,   1, 190],\n",
       "       [ 49,  15,   1, 800]], dtype=int64)"
      ]
     },
     "execution_count": 106,
     "metadata": {},
     "output_type": "execute_result"
    }
   ],
   "source": [
    "confusion_matrix(y_test, df_sub['final_pred'])"
   ]
  },
  {
   "cell_type": "code",
   "execution_count": null,
   "metadata": {},
   "outputs": [],
   "source": []
  }
 ],
 "metadata": {
  "kernelspec": {
   "display_name": "Python 3",
   "language": "python",
   "name": "python3"
  },
  "language_info": {
   "codemirror_mode": {
    "name": "ipython",
    "version": 3
   },
   "file_extension": ".py",
   "mimetype": "text/x-python",
   "name": "python",
   "nbconvert_exporter": "python",
   "pygments_lexer": "ipython3",
   "version": "3.7.4"
  }
 },
 "nbformat": 4,
 "nbformat_minor": 2
}
